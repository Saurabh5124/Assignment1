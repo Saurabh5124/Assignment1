{
 "cells": [
  {
   "cell_type": "code",
   "execution_count": 1,
   "id": "fd2f5682",
   "metadata": {},
   "outputs": [
    {
     "name": "stdout",
     "output_type": "stream",
     "text": [
      "Enter the first number: 15\n",
      "Enter the second number: 5\n",
      "\n",
      "\n",
      "Arithmetic Operations are:\n",
      "\n",
      "Addition: 20\n",
      "\n",
      "Subtraction: 10\n",
      "\n",
      "Multiplication: 75\n",
      "\n",
      "Division: 3.0\n",
      "\n",
      "Floor division: 3\n",
      "\n",
      "Modulus: 0\n",
      "\n",
      "Exponent: 759375\n",
      "\n",
      "\n"
     ]
    }
   ],
   "source": [
    "x = int(input(\"Enter the first number: \"))\n",
    "y = int(input(\"Enter the second number: \"))\n",
    "print(\"\\n\")\n",
    "\n",
    "print(\"Arithmetic Operations are:\\n\")\n",
    "print(\"Addition:\",x+y)\n",
    "print(\"\\nSubtraction:\",x-y)\n",
    "print(\"\\nMultiplication:\",x*y)\n",
    "print(\"\\nDivision:\",x/y)\n",
    "print(\"\\nFloor division:\",x//y)\n",
    "print(\"\\nModulus:\",x%y)\n",
    "print(\"\\nExponent:\",x**y)\n",
    "print(\"\\n\")"
   ]
  },
  {
   "cell_type": "code",
   "execution_count": 2,
   "id": "0ba6fdca",
   "metadata": {},
   "outputs": [
    {
     "name": "stdout",
     "output_type": "stream",
     "text": [
      "Key : YV2Xrt2FZRsAH3YLd5xeWZ6BEaCBd9PTjREcYsus3gc=\n",
      "After encryption : b'gAAAAABjylZRksfC3cP5C5rTiOjgvzsW48-awjtz1wIN9x7TN1cReHlp9-pBzg47wJuRv-scRgyjQyuPW4n6-9kZSKyvEJFedOCldp4L8KeK1Q0joP1Efb1bzTpOpK0LE5E_1hW0RBEoadj4LcTb-ayGjrOysEj7AA=='\n",
      "b'This message is being encrypted and cannot be seen!'\n",
      "After decryption : This message is being encrypted and cannot be seen!\n"
     ]
    }
   ],
   "source": [
    "from cryptography.fernet import Fernet\n",
    "key = Fernet.generate_key()\n",
    "print(\"Key :\", key.decode())\n",
    "f = Fernet(key)\n",
    "encrypted_data = f.encrypt(b\"This message is being encrypted and cannot be seen!\")\n",
    "print(\"After encryption :\", encrypted_data)\n",
    "decrypted_data = f.decrypt(encrypted_data)\n",
    "print(decrypted_data)\n",
    "print(\"After decryption :\", decrypted_data.decode())"
   ]
  },
  {
   "cell_type": "code",
   "execution_count": null,
   "id": "d2691814",
   "metadata": {},
   "outputs": [],
   "source": []
  }
 ],
 "metadata": {
  "kernelspec": {
   "display_name": "Python 3 (ipykernel)",
   "language": "python",
   "name": "python3"
  },
  "language_info": {
   "codemirror_mode": {
    "name": "ipython",
    "version": 3
   },
   "file_extension": ".py",
   "mimetype": "text/x-python",
   "name": "python",
   "nbconvert_exporter": "python",
   "pygments_lexer": "ipython3",
   "version": "3.9.12"
  }
 },
 "nbformat": 4,
 "nbformat_minor": 5
}
